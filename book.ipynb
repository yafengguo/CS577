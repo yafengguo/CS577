{
 "cells": [
  {
   "cell_type": "code",
   "execution_count": 2,
   "metadata": {},
   "outputs": [],
   "source": [
    "# !pip install torch==2.1.0+cu118 torchvision xformers --extra-index-url https://download.pytorch.org/whl/cu118\n"
   ]
  },
  {
   "cell_type": "code",
   "execution_count": 3,
   "metadata": {},
   "outputs": [],
   "source": [
    "# !pip install -i https://pypi.tuna.tsinghua.edu.cn/simple xformers==0.0.22.post7 \n",
    "# xformers==0.0.22.post7   torchaudio "
   ]
  },
  {
   "cell_type": "code",
   "execution_count": 4,
   "metadata": {},
   "outputs": [],
   "source": [
    "# read book1.txt into a list of lines. The book is one of reference of NLPEC test.\n",
    "# !pip uninstall xformers torch torchvision -y"
   ]
  },
  {
   "cell_type": "markdown",
   "metadata": {},
   "source": [
    "# Load Language Model"
   ]
  },
  {
   "cell_type": "code",
   "execution_count": 5,
   "metadata": {},
   "outputs": [],
   "source": [
    "import json\n",
    "import torch\n",
    "import pandas as pd\n",
    "import numpy as np\n",
    "import faiss\n",
    "import pickle\n",
    "\n",
    "# import streamlit as st\n",
    "from transformers import AutoModelForCausalLM, AutoTokenizer\n",
    "from transformers.generation.utils import GenerationConfig"
   ]
  },
  {
   "cell_type": "code",
   "execution_count": 6,
   "metadata": {},
   "outputs": [],
   "source": [
    "# model = AutoModelForCausalLM.from_pretrained(\"./model/Baichuan2-7B-Chat-4bits\", device_map=\"auto\", trust_remote_code=True)\n",
    "# model.generation_config = GenerationConfig.from_pretrained(\n",
    "#        \"./model/Baichuan2-7B-Chat-4bits\"\n",
    "#     )\n",
    "# tokenizer = AutoTokenizer.from_pretrained(\"./model/Baichuan2-7B-Chat-4bits\", trust_remote_code=True)\n",
    "# model = model.eval()\n",
    "\n"
   ]
  },
  {
   "cell_type": "markdown",
   "metadata": {},
   "source": [
    "# Prepare the dataset"
   ]
  },
  {
   "cell_type": "code",
   "execution_count": 7,
   "metadata": {},
   "outputs": [],
   "source": [
    "import json \n",
    "questions = []\n",
    "with open('./data/NLPEC/train.json') as f:\n",
    "  for line in f:\n",
    "    # Remove newline character\n",
    "    line = line.strip()\n",
    "    \n",
    "    # Load the JSON data\n",
    "    data = json.loads(line)\n",
    "    \n",
    "    # Now you can access the data\n",
    "    # print(data['key1']) \n",
    "    q = data['questionText']\n",
    "    o = data['option']\n",
    "    a = data['answer']\n",
    "    a_alpha = \"\"\n",
    "    if a[0] == '1':\n",
    "      a_alpha = \"A\"\n",
    "    if a[0] == '2':\n",
    "      a_alpha = \"B\"\n",
    "    if a[0] == '3':\n",
    "      a_alpha = \"C\"\n",
    "    if a[0] == '4':\n",
    "      a_alpha = \"D\"\n",
    "    if a[0] == '5':\n",
    "      a_alpha = \"E\"\n",
    "    \n",
    "    questions.append((q,o,a_alpha))\n",
    "\n",
    "def accuracy(result):\n",
    "    return len([i for i in result if i[2].strip() == i[3].strip()]) / len(result)\n",
    "\n",
    "def instruction_following(result):\n",
    "    return len([i for i in result if i[3].strip() in ['A','B','C','D','E']]) / len(result)"
   ]
  },
  {
   "cell_type": "code",
   "execution_count": 8,
   "metadata": {},
   "outputs": [],
   "source": [
    "from tqdm import tqdm\n",
    "import random\n",
    "\n",
    "def get_context(query):\n",
    "    tv = to_embeddings(t2v_model, [query])\n",
    "    dis, ind = index.search(tv, 10)\n",
    "    qa_id_list = list(ind[0])\n",
    "    context = kb_dict[qa_id_list[0]]['q']\n",
    "    # print(context)\n",
    "    context_embeding = to_embeddings(t2v_model, [context])\n",
    "    # return calc_similarity_scores(t2v_model, [query], [context])\n",
    "    if calc_similarity_scores(t2v_model, [query], [context]) > 0.983:\n",
    "        return context\n",
    "    else:\n",
    "        return \"\"\n",
    "\n",
    "\n",
    "# def query_rag_model(query):\n",
    "#     context = get_context(query)\n",
    "#     inputs = tokenizer(context, return_tensors='pt')\n",
    "#     inputs = inputs.to('cuda:0')\n",
    "#     pred = model.generate(**inputs, max_new_tokens=1280, repetition_penalty=1.1, temperature=0.001)\n",
    "#     response = tokenizer.decode(pred.cpu()[0], skip_special_tokens=True)\n",
    "#     # print(response)\n",
    "\n",
    "    return response[len(context):]\n",
    "\n",
    "def query_model(query, temperature=0.001):\n",
    "    # context = get_context(query)\n",
    "    inputs = tokenizer(query, return_tensors='pt')\n",
    "    inputs = inputs.to('cuda:0')\n",
    "    pred = model.generate(**inputs, max_new_tokens=1280, repetition_penalty=1.1, temperature=temperature)\n",
    "    response = tokenizer.decode(pred.cpu()[0], skip_special_tokens=True)\n",
    "    # print(response)\n",
    "\n",
    "    return response[len(query):]\n",
    "\n",
    "\n",
    "\n",
    "def answer_questions(question_set, prompt, temperature):\n",
    "    result = []\n",
    "    # subset = random.sample(questions, 10) \n",
    "\n",
    "    for q, o, a in tqdm(question_set):\n",
    "    # for q, o, a in questions:\n",
    "        # question = prompt + q.strip() + ' || 选项：'\n",
    "        # question = prompt_before + q.strip() + ' || 选项：'\n",
    "        pro = prompt.replace('__question__', q.strip())\n",
    "        opt_str = \"\"\n",
    "        idx = ['A', 'B', 'C', 'D', 'E']\n",
    "        i = 0\n",
    "        for opt in o:\n",
    "            opt_str = opt_str + idx[i] + '. ' + opt.strip() + ' '\n",
    "            i = i +1\n",
    "        pro = pro.replace('__options__', opt_str)\n",
    "        question = pro\n",
    "        # print(question)\n",
    "        sa = query_model(question,temperature)\n",
    "        # print(sa)\n",
    "        result.append((q, o, a, sa))\n",
    "        # print(result)\n",
    "    \n",
    "    return accuracy(result), instruction_following(result),result\n"
   ]
  },
  {
   "cell_type": "code",
   "execution_count": 9,
   "metadata": {},
   "outputs": [
    {
     "data": {
      "text/plain": [
       "18703"
      ]
     },
     "execution_count": 9,
     "metadata": {},
     "output_type": "execute_result"
    }
   ],
   "source": [
    "len(questions)"
   ]
  },
  {
   "cell_type": "markdown",
   "metadata": {},
   "source": [
    "# book 教材资料"
   ]
  },
  {
   "cell_type": "code",
   "execution_count": 10,
   "metadata": {},
   "outputs": [],
   "source": [
    "import re\n",
    "\n",
    "# Open the file and read the contents\n",
    "with open('book1.txt', 'r', encoding='utf-8') as f:\n",
    "    contents = f.readlines()\n",
    "\n",
    "# Define the patterns to match\n",
    "patterns = ['^\\([一二三四五六七八九十]+\\)', '^[0-9]+\\.', '^\\([0-9]+\\)','^[一二三四五六七八九十]+']\n",
    "\n",
    "# Loop through the contents and find the start line number of the patterns\n",
    "start_line_numbers = [0]\n",
    "for i, line in enumerate(contents):\n",
    "    for pattern in patterns:\n",
    "        if re.match(pattern, line):\n",
    "            start_line_numbers.append(i)\n",
    "            break\n",
    "\n",
    "# Print the start line numbers\n",
    "# print(start_line_numbers)\n",
    "processing_blocks = start_line_numbers\n",
    "\n",
    "vectors_content = []\n",
    "\n",
    "for idx in range(len(processing_blocks)):\n",
    "    if idx > 0:\n",
    "        ln_start = idx - 1\n",
    "    else:\n",
    "        ln_start = 0\n",
    "    if idx > len(processing_blocks) - 2:\n",
    "        ln_end =  len(processing_blocks) - 1\n",
    "    else:\n",
    "        ln_end = idx + 1\n",
    "    # print(idx, ln_start, ln_end)\n",
    "    \n",
    "    context_content = ''.join(contents[processing_blocks[ln_start]:processing_blocks[ln_end]]).replace('\\n', '').replace(' ', '')\n",
    "    # print(context_content, len(context_content))\n",
    "    vectors_content.append(context_content)\n"
   ]
  },
  {
   "cell_type": "code",
   "execution_count": 11,
   "metadata": {},
   "outputs": [
    {
     "name": "stderr",
     "output_type": "stream",
     "text": [
      "\u001b[32m2023-11-12 15:49:03.320\u001b[0m | \u001b[34m\u001b[1mDEBUG   \u001b[0m | \u001b[36mtext2vec.sentence_model\u001b[0m:\u001b[36m__init__\u001b[0m:\u001b[36m80\u001b[0m - \u001b[34m\u001b[1mUse device: cuda\u001b[0m\n"
     ]
    }
   ],
   "source": [
    "from text2vec import SentenceModel\n",
    "from text2vec import CosentModel, SentenceBertModel, BertMatchModel\n",
    "from text2vec import cos_sim, compute_spearmanr, EncoderType, load_text_matching_test_data\n",
    "t2v_model = SentenceModel('./model/t2v')"
   ]
  },
  {
   "cell_type": "code",
   "execution_count": 12,
   "metadata": {},
   "outputs": [],
   "source": [
    "def dump_obj(obj_name, obj):\n",
    "    with open('./data/tmp/' + obj_name + '.pkl', 'wb') as f:\n",
    "        pickle.dump(obj, f)\n",
    "\n",
    "def restore_obj(obj_name):\n",
    "    with open('./data/tmp/' + obj_name + '.pkl', 'rb') as f:\n",
    "        obj = pickle.load(f)\n",
    "        return obj\n",
    "def to_embeddings(model, text):\n",
    "    sentence_embeddings = model.encode(text)\n",
    "    return sentence_embeddings\n",
    "def calc_similarity_scores(model, sents1, sents2):\n",
    "    # t1 = time.time()\n",
    "    e1 = model.encode(sents1)\n",
    "    e2 = model.encode(sents2)\n",
    "    # spend_time = time.time() - t1\n",
    "    s = cos_sim(e1, e2)\n",
    "    sims = []\n",
    "    for i in range(len(sents1)):\n",
    "        sims.append(s[i][i])\n",
    "    sims = np.array(sims)\n",
    "    return sims"
   ]
  },
  {
   "cell_type": "code",
   "execution_count": 13,
   "metadata": {},
   "outputs": [],
   "source": [
    "kb_dict = {}\n",
    "for index in range(len(vectors_content)):\n",
    "    kb_dict[index] = {\n",
    "        'q': vectors_content[index].strip()\n",
    "        }"
   ]
  },
  {
   "cell_type": "code",
   "execution_count": 40,
   "metadata": {},
   "outputs": [],
   "source": [
    "dump_obj('kb_dict',kb_dict)"
   ]
  },
  {
   "cell_type": "code",
   "execution_count": 14,
   "metadata": {},
   "outputs": [
    {
     "name": "stderr",
     "output_type": "stream",
     "text": [
      "WARNING clustering 3988 points to 128 centroids: please provide at least 4992 training points\n",
      "WARNING clustering 3988 points to 256 centroids: please provide at least 9984 training points\n",
      "WARNING clustering 3988 points to 256 centroids: please provide at least 9984 training points\n",
      "WARNING clustering 3988 points to 256 centroids: please provide at least 9984 training points\n",
      "WARNING clustering 3988 points to 256 centroids: please provide at least 9984 training points\n",
      "WARNING clustering 3988 points to 256 centroids: please provide at least 9984 training points\n",
      "WARNING clustering 3988 points to 256 centroids: please provide at least 9984 training points\n",
      "WARNING clustering 3988 points to 256 centroids: please provide at least 9984 training points\n",
      "WARNING clustering 3988 points to 256 centroids: please provide at least 9984 training points\n",
      "WARNING clustering 3988 points to 256 centroids: please provide at least 9984 training points\n",
      "WARNING clustering 3988 points to 256 centroids: please provide at least 9984 training points\n",
      "WARNING clustering 3988 points to 256 centroids: please provide at least 9984 training points\n",
      "WARNING clustering 3988 points to 256 centroids: please provide at least 9984 training points\n",
      "WARNING clustering 3988 points to 256 centroids: please provide at least 9984 training points\n",
      "WARNING clustering 3988 points to 256 centroids: please provide at least 9984 training points\n",
      "WARNING clustering 3988 points to 256 centroids: please provide at least 9984 training points\n",
      "WARNING clustering 3988 points to 256 centroids: please provide at least 9984 training points\n"
     ]
    }
   ],
   "source": [
    "\n",
    "\n",
    "data = to_embeddings(t2v_model,list(vectors_content))\n",
    "data = data.astype(np.float32)\n",
    "\n",
    "dim = 384\n",
    "# Create index using index factory\n",
    "index = faiss.index_factory(dim, \"IVF128,PQ16\") \n",
    "\n",
    "# Training is required for some indexes like IVF\n",
    "index.train(data) \n",
    "\n",
    "# Add vectors to index\n",
    "index.add(data)\n",
    "faiss.write_index(index, \"index_file.index\") #将index保存为index_file.index文件\n",
    "index = faiss.read_index(\"index_file.index\") #读入index_file.index文件"
   ]
  },
  {
   "cell_type": "markdown",
   "metadata": {},
   "source": [
    "挑选出有足够的知识库支持的问题，方便做知识增强验证(总共能跳出104个)"
   ]
  },
  {
   "cell_type": "code",
   "execution_count": 15,
   "metadata": {},
   "outputs": [],
   "source": [
    "counter = 0\n",
    "subset = []\n",
    "contextset = []\n",
    "for i in range(len(questions)):\n",
    "    text = questions[i][0] + ''.join(questions[i][1])\n",
    "    context = get_context(text)\n",
    "    # print(text[0])\n",
    "    if len(context)>0:\n",
    "        counter = counter + 1\n",
    "        subset.append(questions[i])\n",
    "        contextset.append(context)"
   ]
  },
  {
   "cell_type": "code",
   "execution_count": 16,
   "metadata": {},
   "outputs": [
    {
     "data": {
      "text/plain": [
       "[('适用于缓解肌肉、软组织和关节轻中度疼痛的非处方药是',\n",
       "  ['谷维素', '布洛芬', '对乙酰氨基酚', '氢溴酸山莨菪碱', '双氯芬酸钠二乙胺乳胶剂'],\n",
       "  'E'),\n",
       " ('患者男，70岁，患高血压病10年，2周来反复出现活动后胸痛。检查：血压170／100mmHg，心率90次／分，律齐，血钾偏高。心电图正常，血管彩超提示双侧颈动脉斑块和双侧肾动脉狭窄。最适宜的联合用药方案是',\n",
       "  ['血管紧张素转换酶抑制剂+β受体阻断剂+噻嗪类利尿剂',\n",
       "   '钙通道阻滞剂+β受体阻断剂+噻嗪类利尿剂',\n",
       "   '血管紧张素Ⅱ受体阻断剂+钙通道阻滞剂+β受体阻断剂',\n",
       "   'a受体阻断剂+钙通道阻滞剂+醛固酮受体阻断剂',\n",
       "   '血管紧张素Ⅱ受体阻断剂+中枢a受体阻断剂+噻嗪类利尿剂'],\n",
       "  'B'),\n",
       " ('良性前列腺增生症的晚期病人尿频严重、形成慢性尿潴留，可用特拉唑嗪治疗，下列属于其不良反应的是',\n",
       "  ['性欲减退', '体位性低血压', '胃灼热、恶心', '射精障碍', '轻微腹胀'],\n",
       "  'B'),\n",
       " ('引起乳剂破裂的是',\n",
       "  ['ζ电位.降低', '油水两相密度差不同造成', '光、热、空气及微生物等的作用', '乳化剂类型改变', '乳化剂失去作用'],\n",
       "  'E'),\n",
       " ('患者男，70岁，患高血压病10年，2周来反复出现活动后胸痛。检查：血压170/100mmHg，心率90次/分，律齐，血钾偏高。心电图正常，血管彩超提示双侧颈动脉斑块和双侧肾动脉狭窄。最适宜的联合用药方案是',\n",
       "  ['血管紧张素转换酶抑制剂＋β受体阻断剂＋噻嗪类利尿剂',\n",
       "   '钙通道阻滞剂＋β受体阻断剂＋噻嗪类利尿剂',\n",
       "   '血管紧张素Ⅱ受体阻断剂＋钙通道阻滞剂＋β受体阻断剂',\n",
       "   'α受体阻断剂＋钙通道阻滞剂＋醛固酮受体阻断剂',\n",
       "   '血管紧张素Ⅱ受体阻断剂＋中枢α受体阻断剂＋噻嗪类利尿剂'],\n",
       "  'B'),\n",
       " ('多发生于春夏季节，可反复发作，双眼奇痒，睑结膜有粗大的乳头，角膜缘胶样增生的是',\n",
       "  ['急性卡他性结膜炎', '流行性结膜炎', '流行性出血性结膜炎', '过敏性结膜炎', '春季卡他性结膜炎'],\n",
       "  'E'),\n",
       " ('危重支气管哮喘疾病的临床表现为',\n",
       "  ['步行或上楼时气短，可有焦虑，呼吸频率轻度增加，闻及散在哮鸣音，肺通气功能和血气检查正常',\n",
       "   '稍事活动感气短，可有焦虑，呼吸频率增加，可有三凹征，闻及响亮、弥漫的哮鸣音，心率增快，可出现奇脉',\n",
       "   '休息时感气短，端坐呼吸，只能发单字表达，常有焦虑和烦躁，大汗淋漓，呼吸频率>30次/分，常有三凹征，闻及响亮、弥漫的哮鸣音，心率增快常>120次/分，奇脉，PaO<SUB>2</SUB><60mmHg,PaCO<SUB>2</SUB>>45mmHg，SaO<SUB>2</SUB>≥90%，pH可降低',\n",
       "   '不能讲话，嗜睡、意识模糊，胸腹矛盾运动等，喘鸣音减低或消失',\n",
       "   '长时间内仍有不同频度和不同程度的喘息、咳嗽、胸闷等症状'],\n",
       "  'D'),\n",
       " ('口腔溃疡反复发作患者适宜选用的药品是',\n",
       "  ['左旋咪唑片', '西地碘含片', '甲硝唑粘贴片', '氯己定含漱剂', '地塞米松粘贴片'],\n",
       "  'A'),\n",
       " ('关于磷酸二酯酶抑制剂的应用，正确的是',\n",
       "  ['对心房扑动、心房颤动者，可先应用洋地黄制剂控制心室率',\n",
       "   '米力农在葡萄糖注射液中稳定，宜使用5%葡萄糖注射液',\n",
       "   '使用米力农引起的血小板减少无临床症状，无需监测血小板计数',\n",
       "   '米力农合用强利尿剂时，不会降低左室充盈压',\n",
       "   '肾功能不全时米力农无需减量'],\n",
       "  'A'),\n",
       " ('尿胆红素检测结果呈阴性，此疾病为', ['胆管癌', '急性黄疸性肝炎', '溶血性黄疸', '败血症', '先天性高胆红素血症'], 'C'),\n",
       " ('在冠状动脉固定性严重狭窄基础上，由于心肌负荷的增加引起心肌急剧、暂时性缺氧缺血的临床综合征，即稳定型心绞痛，下列关于其治疗用药说法错误的是',\n",
       "  ['发作时可舌下含服作用较快的硝酸酯类制剂，首次服用硝酸甘油时，应注意可能发生直立性低血压',\n",
       "   '阿司匹林是常用药物，主要不良反应为胃肠道出血或对阿司匹林过敏',\n",
       "   '稳定型心绞痛患者合并高血压、糖尿病、心力衰竭可选用卡托普利、依那普利等药物',\n",
       "   '他汀类药物能有效降低TC和LDL-C，其主要不良反应是头痛、面色潮红、心率反射性加快和低血压等',\n",
       "   '地尔硫卓和维拉帕米不能应用于已有严重心动过缓、高度房室传导阻滞和病态窦房结综合征的患者'],\n",
       "  'D'),\n",
       " ('对皮脂腺分泌过多所致的寻常型痤疮，首选哪种药物',\n",
       "  ['壬二酸乳膏', '维A酸乳膏', '阿达帕林凝胶', '异维A酸', '过氧苯甲酰凝胶'],\n",
       "  'E'),\n",
       " ('无症状菌尿',\n",
       "  ['治疗后症状消失，尿菌阴性，但在停药6w后再次出现真性细菌尿，菌株与上次不同',\n",
       "   '患者无尿路感染症状，但中段尿培养连续两次，尿细菌数>105菌落形成单位/ml',\n",
       "   '宜选用毒性小的抗菌药物',\n",
       "   '治疗后症状消失，尿菌阴转后在7w内再出现菌尿，菌种与上次相同',\n",
       "   '短疗程疗法'],\n",
       "  'B'),\n",
       " ('患者，男，65岁，因腹胀，呕吐就诊。医生处方：甲氧氯普胺片20 mg tid po该处方属于',\n",
       "  ['无适应证用药', '用法与用量不适宜', '有配伍禁忌用药', '有禁忌证用药', '重复给药'],\n",
       "  'B'),\n",
       " ('属于黏痰溶解剂，适用于大量痰液堵塞气管导致呼吸困难的祛痰药物是',\n",
       "  ['溴已新', '氨溴索', '乙酰半胱氨酸', '糜蛋白酶', '羧甲司坦'],\n",
       "  'C'),\n",
       " ('绝经后骨质疏松且无禁忌证患者，在钙剂+维生素D的基础治疗上，宜选用',\n",
       "  ['雌激素或雌激素受体调节剂', '双膦酸盐', '降钙素', '雄激素', '孕激素'],\n",
       "  'A'),\n",
       " ('对皮脂腺分泌过多所致的寻常型痤疮首选',\n",
       "  ['0.03%维A酸乳膏剂', '10%过氧苯甲酰凝胶', '0.1%阿达帕林凝胶', '红霉素-过氧化苯甲酰凝胶', '维胺酯胶囊'],\n",
       "  'B'),\n",
       " ('治疗咳嗽，但无感染指征，给予阿奇霉素,上述处方用药适宜性审核结果应判定为',\n",
       "  ['无适应证用药', '超适应证用药', '有禁忌证用药', '过度治疗用药', '联合用药'],\n",
       "  'A'),\n",
       " ('药物警戒贯穿于药物发展到应用的全过程，从用药者安全出发，发现、评估、预防药品不良反应。下列不属于药物警戒内容的是',\n",
       "  ['早期发现未知药品不良反应及其相互作用',\n",
       "   '发现已知药品不良反应的增长趋势',\n",
       "   '分析药品不良反应的风险因素和可能的机制',\n",
       "   '对风险/效益评价进行定量分析，发布相关信息，促进药品监督管理和指导临床用药',\n",
       "   '观察药品临床的治疗作用，发布临床用药指南'],\n",
       "  'E'),\n",
       " ('患儿，男，2岁半，因腹泻住院治疗。经检查，患儿粪便呈黏液性，体温38.2度，白细胞计数16.0×109/L，关于该患儿的用药治疗，下列说法错误的是',\n",
       "  ['采用小檗碱静脉滴注给药治疗',\n",
       "   '在排除了没有遗传性葡萄糖-6-磷酸脱氢酶缺乏症的情况下，可采用口服黄连素0.05～0.1g/次，每日3次治疗',\n",
       "   '采用抗菌药治疗期间，应适当补充口服补盐液（ORS），如果没有ORS，可自己配制一些盐水喂服',\n",
       "   '可采用物理方法帮助患儿降低体温，尽可能不喂服解热镇痛药',\n",
       "   '尽可能不用药用炭控制腹泻，以免造成营养物质流失'],\n",
       "  'A'),\n",
       " ('有一定麻醉作用，能够镇痛的抗口腔溃疡药是',\n",
       "  ['氯己定含漱液', '溶菌酶含片', '地塞米松气雾剂', '复方甘菊利多卡因凝胶', '10%硝酸银溶液'],\n",
       "  'D'),\n",
       " ('关于别嘌醇的药理作用描述，错误的是',\n",
       "  ['抑制黄嘌呤氧化酶，阻止次黄嘌呤和黄嘌呤代谢为尿酸',\n",
       "   '防止尿酸形成结晶沉积',\n",
       "   '抑制粒细胞侵润和白细胞趋化',\n",
       "   '抗氧化，减少再灌注期氧自由基产生',\n",
       "   '有助于组织内尿酸结晶重新溶解'],\n",
       "  'C'),\n",
       " ('由直肠或结肠溃疡、肿瘤或炎症引起的腹泻称为',\n",
       "  ['菌群失调性腹泻', '肠易激综合征', '激素性腹泻', '功能性腹泻', '炎症性肠病'],\n",
       "  'E'),\n",
       " ('属于竞争血浆蛋白结合部位的是',\n",
       "  ['服用四环素类药物时，不宜与铁制剂或含钙、镁、铝离子的抗酸药如碳酸钙、氧化镁、氢氧化铝凝胶同服',\n",
       "   '抗胆碱药物溴丙胺太林（普鲁本辛）延缓胃排空，减慢对乙酰氨基酚在小肠的吸收（胃动力药物甲氧氯普胺加速胃排空，使对乙酰氨基酚在小肠吸收加快）',\n",
       "   '阿司匹林增加甲氨蝶吟的肝脏毒性（保秦松延长华法林的凝血酶原时间，作用明显增强，可引起出血）',\n",
       "   '异丙肾上腺素增加肝血流量，因而增加利多卡因在肝脏的分布与代谢，使其血药浓度降低',\n",
       "   '苯巴比妥使华法林的抗凝作用减弱，表现为凝血酶原时间缩短'],\n",
       "  'C'),\n",
       " ('缺铁性贫血患者常表现为', ['血红蛋白减少', '嗜酸性粒细胞增多', '中性粒细胞增多', '红细胞增多', '血小板增多'], 'A'),\n",
       " ('患者，男，65岁，诊断为持续性心房颤动，医生处方胺碘酮和华法林治疗。患者既往有高血压、糖尿病、冠心病和高脂血症，目前正在服用贝那普利、美托洛尔、二甲双胍、阿卡波糖、辛伐他汀等药物治疗。根据患者用药情况，药师提出的合理化药物治疗建议，但应不包括',\n",
       "  ['患者在复律成功后，尽可能以最小的胺碘酮剂量维持治疗',\n",
       "   '因为胺碘酮和贝那普利存在临床意义的相互作用，建议换成氨氯地平等CCB降压药',\n",
       "   '胺碘酮可以显著抑制CYP2D6，减慢美托洛尔的代谢，应该根据患者心率和血压调整美托洛尔剂量',\n",
       "   '胺碘酮能増加华法林的抗凝活性，在逐渐降低胺碘酮剂量的同时，注意随时根据INR值调整华法林的剂量',\n",
       "   '胺碘酮和辛伐他汀存在临床意义的相互作用，合用时应该限制辛伐他汀的日剂量(不超过20mg/d)'],\n",
       "  'B'),\n",
       " ('抗癫痫药所致骨质疏松症的治疗方案是',\n",
       "  ['长期口服维生素D', '钙剂+维生素D+双膦酸盐', '单独用双膦酸盐', '氢氯噻嗪+双膦酸盐', '钙剂+维生素D+雌激素'],\n",
       "  'A'),\n",
       " ('人体中，心房以β1受体为主，但同时含有四分之一的β2受体，肺组织β1和β2之比为3∶7，根据β受体分布并结合受体作用情况，下列说法正确的是',\n",
       "  ['非选择性β受体阻断药，具有较强抑制心肌收缩力作用，同时具有引起支气管痉挛及哮喘的副作用',\n",
       "   '选择性β1受体阻断药，具有较强的增强心肌收缩力作用，临床可用于强心和抗休克',\n",
       "   '选择性β2受体阻断药，具有较强的抑制心肌收缩力作用，同时具有引起体位性低血压的副作用',\n",
       "   '选择性β1受体激动药，具有较强扩张支气管作用，可用于平喘和改善微循环',\n",
       "   '选择性β2受体激动药，比同时作用α和β受体的激动药具有更强的收缩外周血管作用，可用于抗休克'],\n",
       "  'A'),\n",
       " ('关于本病例患者用药教育的方法，错误的是',\n",
       "  ['酚麻美敏口服液与对乙酰氨基酚混悬滴剂都含有对乙酰氨基酚，应避免重复用药',\n",
       "   '酚麻美敏口服液与盐酸麻黄碱滴鼻液含有相同成分，应避免重复用药',\n",
       "   '酚麻美敏口服液与小儿氨酚黄那敏颗粒含有相同成分氯苯那敏，应避免重复用药',\n",
       "   '酚麻美敏口服液与小儿氨酚黄那敏颗粒含有相同成分对乙酰氨基酚，应避免重复用药',\n",
       "   '小儿氨酚黄那敏颗粒与对乙酰氨基酚混悬滴剂含有相同成分，应避免重复用药'],\n",
       "  'B'),\n",
       " ('中性粒细胞增加最常见的原因是',\n",
       "  ['急性感染和化脓性炎症',\n",
       "   '代谢性中毒和急性化学药物中毒',\n",
       "   '急性大出血',\n",
       "   '白血病、骨髓增殖性疾病及恶性肿瘤等',\n",
       "   '严重的组织损伤及大量红细胞破坏'],\n",
       "  'A'),\n",
       " ('治疗口腔溃疡时，涂于溃疡面上，连续2次，用于进食前暂时止痛的药物是',\n",
       "  ['冰硼咽喉散', '甲硝唑口腔粘贴片', '地塞米松粘贴片', '西地碘含片', '达克罗宁液'],\n",
       "  'E'),\n",
       " ('对炎症突出的轻、中度寻常型痤疮患者可以选用的药物是',\n",
       "  ['维胺酯胶囊', '红霉素-过氧化苯甲酰凝胶', '过氧化苯甲酰凝胶', '替硝唑片剂', '维A酸乳膏剂'],\n",
       "  'E'),\n",
       " ('除胰岛素分泌过多外，主要引起血糖低于正常参考区间低限的疾患是',\n",
       "  ['颅内压增高、颅脑外伤', '激素分泌功能衰退', '激素分泌功能亢进', '肝功能亢进', '肾功能衰减'],\n",
       "  'B'),\n",
       " ('该患者经以上药物治疗后，症状好转，却出现了尿潴留，考虑需要调整的药物为',\n",
       "  ['硝苯地平控释片', '氨溴索注射液', '异丙托溴铵溶液', '布地奈德混悬液', '莫西沙星氯化钠注射液'],\n",
       "  'C'),\n",
       " ('根据患者病情，医师嘱联合使用利尿剂控制血压，为了避免严重的高钾血症，不能合用的利尿剂是',\n",
       "  ['氢氯噻嗪', '螺内酯', '吲达帕胺', '氯噻酮', '缬沙坦'],\n",
       "  'B'),\n",
       " ('肾功能不全而肝功能正常者，应选用',\n",
       "  ['经肝肠循环的药物', '肾毒性小且由肝代谢的药物', '肝毒性小且由肾排泄的药物', '由肝肾双通道排泄的药物', '有首关效应的药物'],\n",
       "  'D'),\n",
       " ('戒断综合征是（\\u3000）。',\n",
       "  ['机体连续多次用药后，其反应性降低，需加大剂量才能维持原有疗效的现象',\n",
       "   '反复使用具有依赖性特征的药物，产生一种适应状态，中断用药后产生的一系列强烈的症状或损害',\n",
       "   '病原微生物对抗菌药的敏感性降低甚至消失的现象',\n",
       "   '连续用药后，可使机体对药物产生生理/心理的需求',\n",
       "   '长期使用拮抗药造成受体数量或敏感性提高的现象'],\n",
       "  'B'),\n",
       " ('该患者经以上药物治疗后，症状好转，动出现尿潴留，应考虑调整的药物是',\n",
       "  ['硝苯地平控释片', '氯溴索注射液', '异丙托溴铵溶液', '布地奈德混悬液', '莫西沙星氯化钠注射液'],\n",
       "  'C'),\n",
       " ('对某些患者应教会正确量取内服液体制剂，是针对',\n",
       "  ['交代药物的用量', '交代用药注意事项', '交代用药途径及用药方法', '交代药品贮存条件与方法', '交代多药合用服药的间隔时间'],\n",
       "  'A'),\n",
       " ('以下药品中，最适宜治疗沙眼和流行性急性结膜炎的是。',\n",
       "  ['红霉素眼膏', '酞丁安滴眼剂', '硫酸锌滴眼剂', '色甘酸钠滴眼剂', '磺胺醋酰钠滴眼剂'],\n",
       "  'B'),\n",
       " ('再感染',\n",
       "  ['治疗后症状消失，尿菌阴性，但在停药6w后再次出现真性细菌尿，菌株与上次不同',\n",
       "   '患者无尿路感染症状，但中段尿培养连续两次，尿细菌数>105菌落形成单位/ml',\n",
       "   '宜选用毒性小的抗菌药物',\n",
       "   '治疗后症状消失，尿菌阴转后在7w内再出现菌尿，菌种与上次相同',\n",
       "   '短疗程疗法'],\n",
       "  'A'),\n",
       " ('戒断综合征是',\n",
       "  ['机体连续多次用药后，其反应性降低，需加大剂量才能维持原有疗效的现象',\n",
       "   '反复使用具有依赖性特征的药物，产生一种适应状态，中断用药后产生的一系列强烈的症状或损害',\n",
       "   '病原微生物对抗菌药的敏感性降低甚至消失的现象',\n",
       "   '连续用药后，可使机体对药物产生生理/心理的需求',\n",
       "   '长期使用拮抗药造成受体数量或敏感性提高的现象'],\n",
       "  'B'),\n",
       " ('以下有关中毒后药物拮抗的叙述中，属于生理性拮抗的是',\n",
       "  ['弱碱中和强酸', '二巯丙醇夺取已与组织中酶系统结合的金属物', '药用炭吸附中毒物质', '牛乳沉淀重金属', '阿托品拮抗有机磷中毒'],\n",
       "  'E'),\n",
       " ('在治疗沙眼的药物中，对沙眼衣原体有强大的抑制作用的是。',\n",
       "  ['红霉素眼膏', '金霉素眼膏', '酞丁安滴眼剂', '硫酸锌滴眼剂', '磺胺醋酰钠滴眼剂'],\n",
       "  'C'),\n",
       " ('患者，女，实验室检查：血红蛋白95g/L，临床诊断为缺铁性贫血，处方口服硫酸亚铁片。下列向患者交代的用药注意事项，错误的是',\n",
       "  ['不宜与钙剂同时服用', '宜空腹服用', '宜同时补充维生素C', '不宜同时进食牛奶和蛋类', '避免应用抑酸药'],\n",
       "  'B'),\n",
       " ('患者，女性，49岁。胸闷、气短反复发作3月余，休息时突发胸骨后压榨性疼痛。心电图检查示ST段抬高，诊断为变异型心绞痛。应首选的药物是',\n",
       "  ['普萘洛尔', '硝酸甘油', '硝苯地平', '吗啡', '阿司匹林'],\n",
       "  'C'),\n",
       " ('总胆红素、结合胆红素及非结合胆红素均升高提示',\n",
       "  ['溶血性黄疸', '肝细胞性黄疸', '胆汁淤积性黄疸', '新生儿生理性黄疸', '先天性非溶血性黄疸'],\n",
       "  'B'),\n",
       " ('药理效应按性质可分为量反应和质反应。药理效应的强弱呈现连续量的变化，可用数或量或最大反应的百分率表示，研究对象为单一生物个体的称为量反应。下列不属于量反应指标的是',\n",
       "  ['卡托普利抑制ACE酶引起的血压变化',\n",
       "   '美西律阻滞钠通道引起的心率变化',\n",
       "   '氢氯塞秦作用于转运体引起的尿量变化',\n",
       "   '阿卡波糖作用于α-葡萄糖苷酶引起的血糖变化',\n",
       "   '地西泮作用于失活态的受体引起的睡眠与否'],\n",
       "  'E'),\n",
       " ('药物配伍恰当可以改善药物性能，增强疗效。下列不属于化学配伍变化的是',\n",
       "  ['盐酸氯丙嗪注射液与异戊巴比妥钠注射液配伍产生沉淀',\n",
       "   '溴化铵与强碱配伍产生大量氨气',\n",
       "   '两性霉素B加入复方氯化钠注射液中，药物发生凝聚',\n",
       "   '多巴胺注射液与碳酸氢钠注射液配伍后会变成粉红至紫色',\n",
       "   '维生素C与烟酰胺混合后变成橙红色'],\n",
       "  'C'),\n",
       " ('复发',\n",
       "  ['治疗后症状消失，尿菌阴性，但在停药6w后再次出现真性细菌尿，菌株与上次不同',\n",
       "   '患者无尿路感染症状，但中段尿培养连续两次，尿细菌数>105菌落形成单位/ml',\n",
       "   '宜选用毒性小的抗菌药物',\n",
       "   '治疗后症状消失，尿菌阴转后在7w内再出现菌尿，菌种与上次相同',\n",
       "   '短疗程疗法'],\n",
       "  'D'),\n",
       " ('适用于中毒药物未明，不宜使用热溶液的洗胃液是',\n",
       "  ['1∶5000高锰酸钾', '活性炭混悬液', '淀粉溶液', '3%鞣酸溶液', '生理盐水'],\n",
       "  'E'),\n",
       " ('患者，男性，51岁。体检诊断为高血压，并伴有左心室肥厚，该患者最宜服用的抗高血压药物是',\n",
       "  ['钙拮抗剂', '利尿药', '神经节阻断药', '中枢性降压药', '血管紧张素转换酶抑制剂'],\n",
       "  'E'),\n",
       " ('可出现于氨基糖苷类抗生素应用过程中的蛋白尿是',\n",
       "  ['肾小球性蛋白尿', '肾小管性蛋白尿', '组织性蛋白尿', '溢出性蛋白尿', '肾毒性蛋白尿'],\n",
       "  'E'),\n",
       " ('患者，男，72岁，身高168cm，体重85kg，痛风病史6年。近日因多饮、多尿就诊，实验室检查：空腹血糖12.8mmol/L，餐后血糖16.8mmol/L，血尿酸580umol，肌酐清除率60ml/min。颈动脉彩超提示：动脉粥样硬化，有混合性脂质斑块。临床诊断2型糖尿病、痛风、高脂血症、动脉粥样硬化症状、肾功能不全。该患者采用首选降糖药物后，经检测餐前血糖已达标，餐后血糖能控制不佳，应考虑联合用的降糖药是',\n",
       "  ['二甲双胍', '格列齐特', '阿卡波糖', '甘精胰岛素', '那格列奈'],\n",
       "  'C'),\n",
       " ('鼻黏膜血管收缩剂麻黄碱不适宜治疗的鼻塞是',\n",
       "  ['急性鼻炎的鼻塞症状', '慢性鼻窦炎的鼻塞症状', '过敏性鼻炎的鼻塞症状', '慢性肥厚性鼻炎的鼻塞症状', '慢性单纯性鼻炎的鼻塞症状'],\n",
       "  'D'),\n",
       " ('有关磺酰脲类降糖药描述不正确的是',\n",
       "  ['对空腹血糖较高者宜选用格列齐特',\n",
       "   '对轻、中度肾功能不全者可选用格列喹酮',\n",
       "   '对既往发生心梗者可选用格列本脲',\n",
       "   '使用格列本脲需防止过量出现持久低血糖',\n",
       "   '应激状态下需换成胰岛素治疗'],\n",
       "  'C'),\n",
       " ('以上哪种药物适用于哮喘急性发作的治疗，尤其是夜间哮喘及痰多的患者',\n",
       "  ['短效β2受体激动剂', '白三烯受体阻断剂', 'β2受体阻断剂', '磷酸二酯酶抑制剂', '短效抗胆碱药'],\n",
       "  'E'),\n",
       " ('具有长效、平稳、血药浓度无峰值特点的胰岛素/胰岛素类似物是(\\u3000)。',\n",
       "  ['普通胰岛素注射液', '精蛋白锌胰岛素注射液', '预混胰岛素注射液', '甘精胰岛素注射液', '低精蛋白锌胰岛素注射液'],\n",
       "  'D'),\n",
       " ('关于高血压的药物治疗方案的叙述，错误的是',\n",
       "  ['首先选用血管扩张剂或中枢性抗高血压药',\n",
       "   '采用最小有效剂量使不良反应减至最少',\n",
       "   '最好选用一天一次持续24小时降压的制剂',\n",
       "   '可以采用两种或两种以E药物联合治疗',\n",
       "   '药物治疗高血压时要考虑患者的并发症'],\n",
       "  'A'),\n",
       " ('高脂血症患者用药期间的注意事项不包括',\n",
       "  ['他汀类与其他调脂药（如贝特类、烟酸类等）合用时可增加药物不良反应，联合应用时须慎重',\n",
       "   '贝特类能增强抗凝药物作用，两药合用时需调整抗凝药物剂量',\n",
       "   '烟酸类药物主要不良反应有：面部潮红、高尿酸血症，恶心、呕吐等胃肠道症状，偶见肝功能损害及诱发溃疡病。禁用于慢性肝病和严重痛风',\n",
       "   '他汀类降血脂药除阿托伐他汀和瑞舒伐他汀可在任何时间服药外，其余制剂均为清晨顿服',\n",
       "   '中成药血脂康由特制红曲发酵而来，适用于其余他汀类不能耐受的血脂异常患者，不良反应相对少而轻'],\n",
       "  'D'),\n",
       " ('糖皮质激素用于中毒性感染及各种休克宜选择的给药方法是',\n",
       "  ['小剂量替代疗法', '大剂量冲击疗法', '一般剂量长期疗法', '隔日一次给药法', '中剂量维持疗法'],\n",
       "  'B'),\n",
       " ('长期应用利血平后，如果使用具有直接作用的拟肾上腺素药，如肾上腺素、去甲肾上腺素，可以使升压作用增强，这一现象称为',\n",
       "  ['协同增效', '非竞争性拮抗', '敏感化作用', '受体脱敏', '竞争性拮抗'],\n",
       "  'C'),\n",
       " ('有磺胺类过敏史者禁用的药物是', ['磺胺醋酰钠滴眼液', '硫酸锌滴眼液', '酞丁安滴眼液', '可的松滴眼液', '米诺环素'], 'A'),\n",
       " ('治疗口腔溃疡时，取少量吹敷于患处，一日用2～3次的药物是',\n",
       "  ['冰硼咽喉散', '甲硝唑口腔粘贴片', '地塞米松粘贴片', '西地碘含片', '达克罗宁液'],\n",
       "  'A'),\n",
       " ('治疗口腔溃疡时，取少量吹敷于患处，一日用2~3次的药物是',\n",
       "  ['冰硼咽喉散', '甲硝唑口腔粘贴片', '地塞米松粘贴片', '西地碘含片', '达克罗宁液'],\n",
       "  'A'),\n",
       " ('可由腹膜透析清除，但是否由血液透析清除尚无可靠资料的药物是',\n",
       "  ['头孢替坦', '头孢唑肟', '环丙沙星', '氯磺丙脲', '奈替米星'],\n",
       "  'A'),\n",
       " ('属于改变组织分布量的是',\n",
       "  ['服用四环素类药物时，不宜与铁制剂或含钙、镁、铝离子的抗酸药如碳酸钙、氧化镁、氢氧化铝凝胶同服',\n",
       "   '抗胆碱药物溴丙胺太林（普鲁本辛）延缓胃排空，减慢对乙酰氨基酚在小肠的吸收（胃动力药物甲氧氯普胺加速胃排空，使对乙酰氨基酚在小肠吸收加快）',\n",
       "   '阿司匹林增加甲氨蝶吟的肝脏毒性（保秦松延长华法林的凝血酶原时间，作用明显增强，可引起出血）',\n",
       "   '异丙肾上腺素增加肝血流量，因而增加利多卡因在肝脏的分布与代谢，使其血药浓度降低',\n",
       "   '苯巴比妥使华法林的抗凝作用减弱，表现为凝血酶原时间缩短'],\n",
       "  'D'),\n",
       " ('中度支气管哮喘疾病的临床表现为',\n",
       "  ['步行或上楼时气短，可有焦虑，呼吸频率轻度增加，闻及散在哮鸣音，肺通气功能和血气检查正常',\n",
       "   '稍事活动感气短，可有焦虑，呼吸频率增加，可有三凹征，闻及响亮、弥漫的哮鸣音，心率增快，可出现奇脉',\n",
       "   '休息时感气短，端坐呼吸，只能发单字表达，常有焦虑和烦躁，大汗淋漓，呼吸频率>30次/分，常有三凹征，闻及响亮、弥漫的哮鸣音，心率增快常>120次/分，奇脉，PaO<SUB>2</SUB><60mmHg,PaCO<SUB>2</SUB>>45mmHg，SaO<SUB>2</SUB>≥90%，pH可降低',\n",
       "   '不能讲话，嗜睡、意识模糊，胸腹矛盾运动等，喘鸣音减低或消失',\n",
       "   '长时间内仍有不同频度和不同程度的喘息、咳嗽、胸闷等症状'],\n",
       "  'B'),\n",
       " ('经肾排泄、肾毒性明显的药物用于严重肝功能减退者时',\n",
       "  ['必须减量应用', '尽可能避免使用', '一般无须调整剂量', '须谨慎使用,必要时减量给药', '需谨慎或减量,以防肝肾综合征的发生'],\n",
       "  'E'),\n",
       " ('属于超适应证用药的是',\n",
       "  ['患者咳嗽，无感染诊断（白细胞计数不高，C反应蛋白正常），给资由予阿奇霉素',\n",
       "   '阿托伐他汀钙用于补钙',\n",
       "   '肠炎、细菌感染性腹泻患者，给子小檗碱片、盐酸地芬诺酯片、双八面体蒙脱石散剂进行治疗',\n",
       "   '食管癌患者给予顺铂、氟尿嘧啶、表柔比星、依托泊苷治疗',\n",
       "   '脂肪乳用于急性肝损伤、急性胰腺炎、脂质肾病、脑卒中、高脂血症患者'],\n",
       "  'B'),\n",
       " ('治疗口腔溃疡，若频繁应用可使局部组织萎缩的药品是',\n",
       "  ['左旋咪唑片', '西地碘含片', '甲硝唑粘贴片', '氯己定含漱剂', '地塞米松粘贴片'],\n",
       "  'E'),\n",
       " ('严重肝功能减退病人常伴功能性肾功能不全，以致使\"经肝肾两种途径清除\"的药物的血药浓度很高，因此用药原则是。',\n",
       "  ['必须减量应用', '尽可能避免使用', '一般无须调整剂量', '须谨慎使用，必要时减量给药', '需谨慎或减量，以防肝肾综合征的发生'],\n",
       "  'A'),\n",
       " ('书写药历是',\n",
       "  ['与病历相同',\n",
       "   '药师进行规范化药学服务的具体体现\\n',\n",
       "   '中国药学会医院药学专业委员会发布\\n',\n",
       "   '用药评价与指导\\n',\n",
       "   '保证患者用药安全、经济、有效，便于药师开展药学服务\\n'],\n",
       "  'B'),\n",
       " ('慢性粒细胞性白血病可出现',\n",
       "  ['淋巴细胞增多', '单核细胞增多', '中性粒细胞增多', '嗜酸性粒细胞增多', '嗜碱性粒细胞增多'],\n",
       "  'E'),\n",
       " ('绝经后骨质疏松症且无禁忌证的患者，在钙剂+维生素D的基础治疗同时，宜选用',\n",
       "  ['雌激素或选择性雌激素调节因子类药物', '双膦酸盐', '降钙素', '雄激素', '孕激素'],\n",
       "  'A'),\n",
       " ('能用结论较肯定的药物就不用新药，即',\n",
       "  ['能单独用药就避免联合用药',\n",
       "   '选用对胎儿危害较小的药物',\n",
       "   '用药必须有明确的指征和适应证',\n",
       "   '可用可不用的药物应尽量不用或少用',\n",
       "   '用药必须注意孕周，严格掌握剂量、持续时间，病情控制后及时停药'],\n",
       "  'A'),\n",
       " ('治疗口腔溃疡时，涂于溃疡面上，连续两次，用于进食前暂时止痛的药物是',\n",
       "  ['冰硼咽喉散', '甲硝唑口腔粘贴片', '地塞米松粘贴片', '西地碘含片', '达克罗宁液'],\n",
       "  'E'),\n",
       " ('关于乙型肝炎病毒表面抗体（HBs',\n",
       "  ['HBsAb是人体针对乙型肝炎病毒表面抗原产生的中和抗体，表明人体具有一定的免疫力',\n",
       "   '大多数HBsAg的消失和HBsAb的出现，意味着HBV感染的恢复期和人体产生了免疫力',\n",
       "   'HBsAb阳性见于乙型肝炎恢复期',\n",
       "   'HBsAb阳性也可表明既往曾感染过HBV，现已恢复，且对HBV具有一定的免疫力',\n",
       "   '接种乙肝疫苗后，HBsAb阴性'],\n",
       "  'E'),\n",
       " ('直接卤化细菌体蛋白，防止溃疡面感染的口腔溃疡治疗药物是',\n",
       "  ['1%达克罗宁液', '维生素C片', '西地碘含片', '左旋咪唑片', '0.5%氯己定含漱液'],\n",
       "  'C'),\n",
       " ('作为退热药，阿司匹林的劣势是。',\n",
       "  ['解热镇痛作用较强',\n",
       "   '口服吸收迅速而完全',\n",
       "   '婴幼儿发热用阿苯片',\n",
       "   '作用于下丘脑体温调节中枢',\n",
       "   '儿童用药可引起Reye综合征，尤其是病毒性感染引起的发热'],\n",
       "  'E'),\n",
       " ('尿胆红素的检出，是哪种疾病诊断的重要指标', ['痛风', '贫血', '黄疸', '心肌梗死', '急性胰腺炎'], 'C'),\n",
       " ('.耐受性是',\n",
       "  ['机体连续多次用药后，其反应性降低，需加大剂量才能维持原有疗效的现象',\n",
       "   '反复使用具有依赖性特征的药物，产生一种适应状态，中断用药后产生的一系列强烈的症状或损害',\n",
       "   '病原微生物对抗菌药的敏感性降低甚至消失的现象',\n",
       "   '连续用药后，可使机体对药物产生生理/心理的需求',\n",
       "   '长期使用拮抗药造成受体数量或敏感性提高的现象'],\n",
       "  'A'),\n",
       " ('关于便秘的用药指导和患者教育，错误的是',\n",
       "  ['长期便秘者不宜长期使用刺激性泻药',\n",
       "   '结肠痉挛所致的便秘，可选用膨胀性或润滑性泻药',\n",
       "   '乳果糖适用于肝性脑病及长期卧床的老年患者',\n",
       "   '同时服用牛奶，可增强比沙可啶的吸收',\n",
       "   '排便反射减弱者禁用硫酸镁'],\n",
       "  'D'),\n",
       " ('《国家非处方药目录》收录的治疗过敏性鼻炎的药物不包括',\n",
       "  ['赛洛唑啉滴鼻液', '羟甲唑啉滴鼻液', '1%麻黄碱滴鼻液', '丙酸倍氯米松鼻喷雾剂', '萘甲唑啉滴鼻液'],\n",
       "  'D'),\n",
       " ('用前摇匀、尽量将痰液咳出、口内的食物咽下、含激素类制剂用后以温水漱口，是',\n",
       "  ['膜剂', '泡腾片', '气雾剂', '阴道栓剂', '缓控释制剂'],\n",
       "  'C'),\n",
       " ('治疗慢性沙眼，禁用的药物是', ['红霉素眼膏', '酞丁安滴眼液', '可的松眼药水', '磺胺醋酰钠滴眼液', '硫酸锌滴眼液'], 'C'),\n",
       " ('短效抗胆碱药，适用于哮喘夜间发作及痰多患者的是', ['沙美特罗', '特布他林', '异丙托溴铵', '噻托溴铵', '氨茶碱'], 'C'),\n",
       " ('患者男，70岁，患高血压病10年，2周来反复出现活动后胸痛。检查：血压170/100mmHg，心率90次／分，律齐，血钾偏高。心电图正常，血管彩超提示双侧颈动脉斑块和双侧肾动脉狭窄。最适宜的联合用药方案是',\n",
       "  ['血管紧张素转换酶抑制剂+β受体阻断剂+噻嗪类利尿剂',\n",
       "   '钙通道阻滞剂+β受体阻断剂+噻嗪类利尿剂',\n",
       "   '血管紧张素Ⅱ受体阻断剂+钙通道阻滞剂+β受体阻断剂',\n",
       "   'α受体阻断剂+钙通道阻滞剂+醛固酮受体阻断剂',\n",
       "   '血管紧张素Ⅱ受体阻断剂+中枢α受体阻断剂+噻嗪类利尿剂'],\n",
       "  'B'),\n",
       " ('抑制黄嘌呤氧化酶来抑制尿酸生成的药物是', ['塞来昔布', '别嘌醇', '苯溴马隆', '碳酸氢钠', '秋水仙碱'], 'B'),\n",
       " ('轻度支气管哮喘疾病的临床表现为',\n",
       "  ['步行或上楼时气短，可有焦虑，呼吸频率轻度增加，闻及散在哮鸣音，肺通气功能和血气检查正常',\n",
       "   '稍事活动感气短，可有焦虑，呼吸频率增加，可有三凹征，闻及响亮、弥漫的哮鸣音，心率增快，可出现奇脉',\n",
       "   '休息时感气短，端坐呼吸，只能发单字表达，常有焦虑和烦躁，大汗淋漓，呼吸频率>30次/分，常有三凹征，闻及响亮、弥漫的哮鸣音，心率增快常>120次/分，奇脉，PaO<SUB>2</SUB><60mmHg,PaCO<SUB>2</SUB>>45mmHg，SaO<SUB>2</SUB>≥90%，pH可降低',\n",
       "   '不能讲话，嗜睡、意识模糊，胸腹矛盾运动等，喘鸣音减低或消失',\n",
       "   '长时间内仍有不同频度和不同程度的喘息、咳嗽、胸闷等症状'],\n",
       "  'A'),\n",
       " ('肾功能不全者的用药原则中不包括',\n",
       "  ['避免或减少使用肾毒性大的药物',\n",
       "   '避免与有肾毒性的药物联合使用',\n",
       "   '肾功能不全而肝功能正常者可选用双通道（肝肾）排泄的药物',\n",
       "   '定期监测肾功能，及时调整给药剂量',\n",
       "   '避免或减少使用肝毒性大的药物'],\n",
       "  'E'),\n",
       " ('严重肝功能减退病人常伴功能性肾功能不全，以致使‘经肝肾两种途径清除’的药物的血药浓度很高，因此用药原则是',\n",
       "  ['必须减量应用', '尽可能避免使用', '一般无须调整剂量', '须谨慎使用,必要时减量给药', '需谨慎或减量,以防肝肾综合征的发生'],\n",
       "  'A'),\n",
       " ('适用于过敏性结膜炎，但不宜连续使用超过10d的药物是',\n",
       "  ['四环素软膏', '醋酸可的松滴眼液', '碘苷滴眼液', '酞丁安滴眼液', '硫酸锌滴眼液'],\n",
       "  'B'),\n",
       " ('药物被吸收入血后，有一部分与血浆白蛋白发生可逆性结合，称结合型。关于结合型药物的说法中，错误的是',\n",
       "  ['不呈现药理活性', '不被肾排泄', '有药理作用', '不被肝脏代谢灭活', '不能通过血-脑屏障'],\n",
       "  'C'),\n",
       " ('可使尿比重升高的疾病是', ['糖尿病', '慢性肾炎', '低钙血症', '蛋白质营养不良', '急性肾衰竭多尿期'], 'A'),\n",
       " ('人体中，心房以β1受体为主，但同时含有四分之一的β2受体，肺组织β1和β2之比为3:7，根据β受体分布并结合受体作用情况，下列说法正确的是',\n",
       "  ['非选择性β受体阻断药，具有较强抑制心肌收缩力作用，同时具有引起支气管痉挛及哮喘的副作用',\n",
       "   '选择性β<sub>1</sub>受体阻断药，具有较强的增强心肌收缩力作用，临床可用于强心和抗休克',\n",
       "   '选择性β<sub>2</sub>受体阻断药，具有较强的抑制心肌收缩力作用，同时具有引起体位性低血压的副作用',\n",
       "   '选择性β<sub>1</sub>受体激动药，具有较强扩张支气管作用，可用于平喘和改善微循环',\n",
       "   '选择性β<sub>2</sub>受体激动药，比同时作用α和β受体的激动药具有更强的收缩外周血管作用，可用于抗休克'],\n",
       "  'A'),\n",
       " ('治疗腹痛较重或反复呕吐性腹泻宜选用的药物是', ['庆大霉素', '山莨菪碱', '泛昔洛韦', '双歧杆菌', '洛哌丁胺'], 'B'),\n",
       " ('患者，男，50岁，痛风缓解期，复查血尿酸为560umol/L，尿液pH值为6.5，分型诊断为尿酸排泄障碍，此时宜使用的促尿酸排泄药是',\n",
       "  ['碳酸氢钠', '秋水仙碱', '非布司他', '苯溴马隆', '别嘌醇'],\n",
       "  'D'),\n",
       " ('妊娠期妇女的药动学特点是',\n",
       "  ['胃酸分泌增多，口服给药吸收增加',\n",
       "   '血浆容积增加，血药浓度高于非妊娠女性',\n",
       "   '药物经肾脏的排泄加快',\n",
       "   '白蛋白生成增多，结合型药物增加，药物起效减慢',\n",
       "   '水溶性药物容易透过胎盘'],\n",
       "  'C'),\n",
       " ('依据生物钟规律，补充钙制剂的适宜时间是。', ['餐中给药', '清晨顿服', '睡前顿服', '餐后给药', '清晨和睡前各服用一次'], 'E'),\n",
       " ('法定处方',\n",
       "  ['是医师为患者诊断、治疗和预防用药所开具的处方\\n',\n",
       "   '是医院药剂科与临床药师根据日常医疗用药需要共同制订的处方\\n',\n",
       "   '主要指《中华人民共和国药典》、局颁标准收载的处方\\n',\n",
       "   '仅限于在本单位使用',\n",
       "   '是为了便于控制药品的品种和数量，提高工作效率\\n'],\n",
       "  'C'),\n",
       " ('经肾排泄的药物，肝功能障碍时',\n",
       "  ['必须减量应用', '尽可能避免使用', '一般无须调整剂量', '须谨慎使用,必要时减量给药', '需谨慎或减量,以防肝肾综合征的发生'],\n",
       "  'C'),\n",
       " ('《国家非处方药目录》收载的治疗冻伤（疮）药物活性成分和制剂不包括',\n",
       "  ['樟脑', '冻疮膏', '克林霉素', '肌醇烟酸酯软膏', '氧化锌'],\n",
       "  'C'),\n",
       " ('肝素过量可引起出血，用静脉注射鱼精蛋白注射液解救的目的是',\n",
       "  ['改变尿液pH，有利于药物代谢',\n",
       "   '产生协同作用，增强药效',\n",
       "   '减少或延缓耐药性的产生',\n",
       "   '形成可溶性复合物，有利于吸收',\n",
       "   '利用药物的拮抗作用'],\n",
       "  'E')]"
      ]
     },
     "execution_count": 16,
     "metadata": {},
     "output_type": "execute_result"
    }
   ],
   "source": [
    "subset"
   ]
  },
  {
   "cell_type": "markdown",
   "metadata": {},
   "source": [
    "# Hyper Parameters: Temprature"
   ]
  },
  {
   "cell_type": "code",
   "execution_count": 23,
   "metadata": {},
   "outputs": [],
   "source": [
    "# prompt = \"\"\"\n",
    "# 你是一名医学生，正在参加一项重要考试。你需要逐步阅读并思考每个选项后，首先排除明显错误的选项，再从剩余选项中选择出唯一正确答案。答案用数字编号表示，不要使用字母，也不要引用选项原文。如果不知道答案，就尽量猜测给出一个从1到5的数字作为答案。下面是两个例子：\n",
    "# 题目：书写药历是药师进行规范化药学服务的一项工作，下列内容一般不作为药历内容的是 || 选项: 1. 患者基本信息 2. 用药评价 3. 临床诊断要点 4. 用药记录 5. 患者知情同意书 || 答案: 5\\n\n",
    "# 题目：研究TDM的临床意义不包括 || 选项: 1. 监督临床用药 2. 研究药物在体内的代谢变化 3. 研究治疗无效的原因 4. 确定患者是否按医嘱服药 5. 研究合并用药的影响 || 答案: 3\\n\n",
    "# 题目：\"\"\"\n",
    "prompt = \"\"\"你是一名药剂师，正在参加一项重要考试。选择出唯一正确答案。\n",
    "题目： __question__  || 选项：__options__ || 答案: \"\"\"\n"
   ]
  },
  {
   "cell_type": "code",
   "execution_count": 25,
   "metadata": {},
   "outputs": [
    {
     "name": "stderr",
     "output_type": "stream",
     "text": [
      "100%|██████████| 100/100 [00:14<00:00,  6.90it/s]\n",
      "100%|██████████| 100/100 [00:12<00:00,  7.70it/s]\n",
      "100%|██████████| 100/100 [00:14<00:00,  6.98it/s]\n",
      "100%|██████████| 100/100 [00:14<00:00,  6.96it/s]\n",
      "100%|██████████| 100/100 [00:12<00:00,  8.28it/s]\n",
      "100%|██████████| 100/100 [00:11<00:00,  8.62it/s]\n",
      "100%|██████████| 100/100 [00:17<00:00,  5.71it/s]\n",
      "100%|██████████| 100/100 [00:12<00:00,  7.72it/s]\n",
      "100%|██████████| 100/100 [00:21<00:00,  4.73it/s]\n",
      "100%|██████████| 100/100 [00:11<00:00,  8.42it/s]\n",
      "100%|██████████| 100/100 [00:18<00:00,  5.49it/s]\n",
      "100%|██████████| 100/100 [00:13<00:00,  7.47it/s]\n",
      "100%|██████████| 100/100 [00:13<00:00,  7.36it/s]\n",
      "100%|██████████| 100/100 [00:16<00:00,  6.04it/s]\n",
      "100%|██████████| 100/100 [00:12<00:00,  7.91it/s]\n",
      "100%|██████████| 100/100 [00:11<00:00,  8.52it/s]\n",
      "100%|██████████| 100/100 [00:13<00:00,  7.37it/s]\n",
      "100%|██████████| 100/100 [00:17<00:00,  5.70it/s]\n",
      "100%|██████████| 100/100 [00:14<00:00,  7.11it/s]\n",
      "100%|██████████| 100/100 [00:15<00:00,  6.57it/s]\n",
      "100%|██████████| 100/100 [00:17<00:00,  5.65it/s]\n",
      "100%|██████████| 100/100 [00:17<00:00,  5.66it/s]\n",
      "100%|██████████| 100/100 [00:17<00:00,  5.66it/s]\n",
      "100%|██████████| 100/100 [00:17<00:00,  5.64it/s]\n",
      "100%|██████████| 100/100 [00:17<00:00,  5.64it/s]\n",
      "100%|██████████| 100/100 [00:17<00:00,  5.63it/s]\n",
      "100%|██████████| 100/100 [00:17<00:00,  5.64it/s]\n",
      "100%|██████████| 100/100 [00:17<00:00,  5.63it/s]\n",
      "100%|██████████| 100/100 [00:17<00:00,  5.62it/s]\n",
      "100%|██████████| 100/100 [00:17<00:00,  5.64it/s]\n"
     ]
    }
   ],
   "source": [
    "temp_5 = []\n",
    "for i in range(10):\n",
    "    metrics = answer_questions(subset, prompt, 0.5)\n",
    "    temp_5.append(metrics)\n",
    "\n",
    "temp_9 = []\n",
    "for i in range(10):\n",
    "    metrics = answer_questions(subset, prompt, 0.9)\n",
    "    temp_9.append(metrics)\n",
    "    \n",
    "temp_1 = []\n",
    "for i in range(10):\n",
    "    metrics = answer_questions(subset, prompt, 0.001)\n",
    "    temp_1.append(metrics)\n"
   ]
  },
  {
   "cell_type": "code",
   "execution_count": 26,
   "metadata": {},
   "outputs": [
    {
     "data": {
      "text/plain": [
       "((0.22, 0.0, 0.41, 0.0),\n",
       " (0.184, 0.00052, 0.343, 0.00086),\n",
       " (0.149, 0.00159, 0.287, 0.0017))"
      ]
     },
     "execution_count": 26,
     "metadata": {},
     "output_type": "execute_result"
    }
   ],
   "source": [
    "\n",
    "(round(np.mean([i[0] for i in temp_1]),3), round(np.var([i[0] for i in temp_1]),5), round(np.mean([i[1] for i in temp_1]),3), round(np.var([i[1] for i in temp_1]),5)), \\\n",
    "(round(np.mean([i[0] for i in temp_5]),3), round(np.var([i[0] for i in temp_5]),5), round(np.mean([i[1] for i in temp_5]),3), round(np.var([i[1] for i in temp_5]),5)), \\\n",
    "(round(np.mean([i[0] for i in temp_9]),3), round(np.var([i[0] for i in temp_9]),5), round(np.mean([i[1] for i in temp_9]),3), round(np.var([i[1] for i in temp_9]),5))"
   ]
  },
  {
   "cell_type": "markdown",
   "metadata": {},
   "source": [
    "## 13B model test"
   ]
  },
  {
   "cell_type": "code",
   "execution_count": 21,
   "metadata": {},
   "outputs": [
    {
     "name": "stderr",
     "output_type": "stream",
     "text": [
      "Explicitly passing a `revision` is encouraged when loading a configuration with custom code to ensure no malicious code has been contributed in a newer revision.\n",
      "Explicitly passing a `revision` is encouraged when loading a model with custom code to ensure no malicious code has been contributed in a newer revision.\n",
      "Explicitly passing a `revision` is encouraged when loading a model with custom code to ensure no malicious code has been contributed in a newer revision.\n"
     ]
    }
   ],
   "source": [
    "model = AutoModelForCausalLM.from_pretrained(\"./model/Baichuan2-13B-Chat-4bits\", device_map=\"auto\", trust_remote_code=True)\n",
    "model.generation_config = GenerationConfig.from_pretrained(\n",
    "       \"./model/Baichuan2-13B-Chat-4bits\"\n",
    "    )\n",
    "tokenizer = AutoTokenizer.from_pretrained(\"./model/Baichuan2-13B-Chat-4bits\", trust_remote_code=True)\n",
    "model = model.eval()"
   ]
  },
  {
   "cell_type": "code",
   "execution_count": 105,
   "metadata": {},
   "outputs": [
    {
     "data": {
      "text/plain": [
       "0"
      ]
     },
     "execution_count": 105,
     "metadata": {},
     "output_type": "execute_result"
    }
   ],
   "source": [
    "len(temp_1)"
   ]
  },
  {
   "cell_type": "code",
   "execution_count": null,
   "metadata": {},
   "outputs": [],
   "source": [
    "temp_5 = []\n",
    "for i in range(10):\n",
    "    metrics = answer_questions(subset, prompt, 0.5)\n",
    "    temp_5.append(metrics)\n",
    "\n",
    "temp_9 = []\n",
    "for i in range(10):\n",
    "    metrics = answer_questions(subset, prompt, 0.9)\n",
    "    temp_9.append(metrics)\n",
    "    \n",
    "\n"
   ]
  },
  {
   "cell_type": "code",
   "execution_count": 106,
   "metadata": {},
   "outputs": [
    {
     "name": "stderr",
     "output_type": "stream",
     "text": [
      "100%|██████████| 100/100 [00:21<00:00,  4.61it/s]\n",
      "100%|██████████| 100/100 [00:22<00:00,  4.38it/s]\n",
      "100%|██████████| 100/100 [00:23<00:00,  4.33it/s]\n",
      "100%|██████████| 100/100 [00:24<00:00,  4.10it/s]\n",
      "100%|██████████| 100/100 [00:22<00:00,  4.40it/s]\n",
      "100%|██████████| 100/100 [00:22<00:00,  4.51it/s]\n",
      "100%|██████████| 100/100 [00:22<00:00,  4.52it/s]\n",
      "100%|██████████| 100/100 [00:24<00:00,  4.07it/s]\n",
      "100%|██████████| 100/100 [00:24<00:00,  4.07it/s]\n",
      "100%|██████████| 100/100 [00:21<00:00,  4.69it/s]\n"
     ]
    }
   ],
   "source": [
    "temp_1 = []\n",
    "for i in range(10):\n",
    "    metrics = answer_questions(subset, prompt, 0.01)\n",
    "    temp_1.append(metrics)"
   ]
  },
  {
   "cell_type": "code",
   "execution_count": 107,
   "metadata": {},
   "outputs": [
    {
     "data": {
      "text/plain": [
       "((0.184, 2e-05, 0.27, 4e-05),\n",
       " (0.144, 0.00046, 0.223, 0.00056),\n",
       " (0.104, 0.0008, 0.185, 0.00078))"
      ]
     },
     "execution_count": 107,
     "metadata": {},
     "output_type": "execute_result"
    }
   ],
   "source": [
    "\n",
    "\n",
    "(round(np.mean([i[0] for i in temp_1]),3), round(np.var([i[0] for i in temp_1]),5), round(np.mean([i[1] for i in temp_1]),3), round(np.var([i[1] for i in temp_1]),5)), \\\n",
    "(round(np.mean([i[0] for i in temp_5]),3), round(np.var([i[0] for i in temp_5]),5), round(np.mean([i[1] for i in temp_5]),3), round(np.var([i[1] for i in temp_5]),5)), \\\n",
    "(round(np.mean([i[0] for i in temp_9]),3), round(np.var([i[0] for i in temp_9]),5), round(np.mean([i[1] for i in temp_9]),3), round(np.var([i[1] for i in temp_9]),5))\n"
   ]
  },
  {
   "cell_type": "markdown",
   "metadata": {},
   "source": [
    "# Prompt Test\n",
    "## Prompt 1"
   ]
  },
  {
   "cell_type": "code",
   "execution_count": 33,
   "metadata": {},
   "outputs": [],
   "source": [
    "prompt = \"\"\"题目： __question__  || 选项：__options__ || 答案: \"\"\""
   ]
  },
  {
   "cell_type": "code",
   "execution_count": 34,
   "metadata": {},
   "outputs": [
    {
     "name": "stderr",
     "output_type": "stream",
     "text": [
      "100%|██████████| 104/104 [00:20<00:00,  5.12it/s]\n",
      "100%|██████████| 104/104 [00:21<00:00,  4.82it/s]\n",
      "100%|██████████| 104/104 [00:23<00:00,  4.51it/s]\n",
      "100%|██████████| 104/104 [00:23<00:00,  4.50it/s]\n",
      "100%|██████████| 104/104 [00:23<00:00,  4.37it/s]\n"
     ]
    },
    {
     "data": {
      "text/plain": [
       "(0.221, 0.0, 0.49, 0.0)"
      ]
     },
     "execution_count": 34,
     "metadata": {},
     "output_type": "execute_result"
    }
   ],
   "source": [
    "temp_1 = []\n",
    "for i in range(5):\n",
    "    metrics = answer_questions(subset, prompt, 0.01)\n",
    "    temp_1.append(metrics)\n",
    "(round(np.mean([i[0] for i in temp_1]),3), round(np.var([i[0] for i in temp_1]),5), round(np.mean([i[1] for i in temp_1]),3), round(np.var([i[1] for i in temp_1]),5))\n"
   ]
  },
  {
   "cell_type": "markdown",
   "metadata": {},
   "source": [
    "## Prompt 2"
   ]
  },
  {
   "cell_type": "code",
   "execution_count": 43,
   "metadata": {},
   "outputs": [],
   "source": [
    "prompt = \"\"\"中国执业药师考试题目，根据药学知识进行回答，选择最佳答案。题目: __question__  || 选项: __options__ || 答案: \"\"\""
   ]
  },
  {
   "cell_type": "code",
   "execution_count": 44,
   "metadata": {},
   "outputs": [
    {
     "name": "stderr",
     "output_type": "stream",
     "text": [
      "100%|██████████| 104/104 [00:21<00:00,  4.89it/s]\n",
      "100%|██████████| 104/104 [00:23<00:00,  4.38it/s]\n",
      "100%|██████████| 104/104 [00:21<00:00,  4.80it/s]\n",
      "100%|██████████| 104/104 [00:21<00:00,  4.87it/s]\n",
      "100%|██████████| 104/104 [00:21<00:00,  4.90it/s]\n"
     ]
    },
    {
     "data": {
      "text/plain": [
       "(0.231, 0.0, 0.615, 0.0)"
      ]
     },
     "execution_count": 44,
     "metadata": {},
     "output_type": "execute_result"
    }
   ],
   "source": [
    "temp_1 = []\n",
    "for i in range(5):\n",
    "    metrics = answer_questions(subset, prompt, 0.01)\n",
    "    temp_1.append(metrics)\n",
    "(round(np.mean([i[0] for i in temp_1]),3), round(np.var([i[0] for i in temp_1]),5), round(np.mean([i[1] for i in temp_1]),3), round(np.var([i[1] for i in temp_1]),5))\n"
   ]
  },
  {
   "cell_type": "markdown",
   "metadata": {},
   "source": [
    "## Prompt 3"
   ]
  },
  {
   "cell_type": "code",
   "execution_count": 37,
   "metadata": {},
   "outputs": [],
   "source": [
    "prompt = \"\"\"执业药师考试, 考核医学药学知识，请仔细阅读问题和选项后，选择最佳答案。题目:  __question__  || 选项: __options__ || 答案: \"\"\""
   ]
  },
  {
   "cell_type": "code",
   "execution_count": 38,
   "metadata": {},
   "outputs": [
    {
     "name": "stderr",
     "output_type": "stream",
     "text": [
      "  0%|          | 0/104 [00:00<?, ?it/s]"
     ]
    },
    {
     "name": "stderr",
     "output_type": "stream",
     "text": [
      "100%|██████████| 104/104 [00:26<00:00,  3.96it/s]\n",
      "100%|██████████| 104/104 [00:25<00:00,  4.16it/s]\n",
      "100%|██████████| 104/104 [00:26<00:00,  3.94it/s]\n",
      "100%|██████████| 104/104 [00:27<00:00,  3.76it/s]\n",
      "100%|██████████| 104/104 [00:26<00:00,  3.95it/s]\n"
     ]
    },
    {
     "data": {
      "text/plain": [
       "(0.298, 4e-05, 0.604, 5e-05)"
      ]
     },
     "execution_count": 38,
     "metadata": {},
     "output_type": "execute_result"
    }
   ],
   "source": [
    "temp_1 = []\n",
    "for i in range(5):\n",
    "    metrics = answer_questions(subset, prompt, 0.01)\n",
    "    temp_1.append(metrics)\n",
    "(round(np.mean([i[0] for i in temp_1]),3), round(np.var([i[0] for i in temp_1]),5), round(np.mean([i[1] for i in temp_1]),3), round(np.var([i[1] for i in temp_1]),5))\n"
   ]
  },
  {
   "cell_type": "code",
   "execution_count": 119,
   "metadata": {},
   "outputs": [
    {
     "data": {
      "text/plain": [
       "(0.0, 0.0, 0.0, 0.0)"
      ]
     },
     "execution_count": 119,
     "metadata": {},
     "output_type": "execute_result"
    }
   ],
   "source": [
    "(round(np.mean([i[0] for i in temp_1]),3), round(np.var([i[0] for i in temp_1]),5), round(np.mean([i[1] for i in temp_1]),3), round(np.var([i[1] for i in temp_1]),5))\n"
   ]
  },
  {
   "cell_type": "markdown",
   "metadata": {},
   "source": [
    "## Prompt 4 \n",
    "Example-based Prompts"
   ]
  },
  {
   "cell_type": "code",
   "execution_count": 39,
   "metadata": {},
   "outputs": [],
   "source": [
    "# prompt = \"\"\"你是一名优秀的执业药师，正在参加考试。请逐步阅读并思考每个选项后，选择出唯一正确答案。直接回答一个英文字母。不要其他文字输出，不知道的时候就努力猜测回答，不要回复无法判断。下面是两个例子：\n",
    "# 题目: 书写药历是药师进行规范化药学服务的一项工作，下列内容一般不作为药历内容的是 || 选项: A. 患者基本信息 B. 用药评价 C. 临床诊断要点 D. 用药记录 E. 患者知情同意书 || 答案: E\n",
    "# 题目: 研究TDM的临床意义不包括 || 选项: A. 监督临床用药 B. 研究药物在体内的代谢变化 C. 研究治疗无效的原因 D. 确定患者是否按医嘱服药 E. 研究合并用药的影响 || 答案: C\n",
    "# 题目: __question__  || 选项: __options__ || 答案: \"\"\"\n",
    "# prompt = \"\"\"你是一名医学生，正在参加执业药师考试。 你需要逐步阅读并思考每个选项后, 选择唯一正确答案。直接回答A，B，C，D，E。如果不知道答案，那么猜测选择一个给出答案。\n",
    "# 题目:  __question__  || 选项: __options__ || 答案: \"\"\"\n",
    "prompt = \"\"\"你是一名优秀的执业药师，正在参加考试, 考核医学药学知识，请仔细阅读问题和选项后，选择最佳答案。直接回答一个英文字母。不要其他文字输出。题目:  __question__  || 选项: __options__ || 答案: \"\"\""
   ]
  },
  {
   "cell_type": "code",
   "execution_count": 40,
   "metadata": {},
   "outputs": [
    {
     "name": "stderr",
     "output_type": "stream",
     "text": [
      "  0%|          | 0/104 [00:00<?, ?it/s]"
     ]
    },
    {
     "name": "stderr",
     "output_type": "stream",
     "text": [
      "100%|██████████| 104/104 [00:11<00:00,  8.76it/s]\n",
      "100%|██████████| 104/104 [00:11<00:00,  8.75it/s]\n",
      "100%|██████████| 104/104 [00:11<00:00,  8.75it/s]\n",
      "100%|██████████| 104/104 [00:11<00:00,  8.76it/s]\n",
      "100%|██████████| 104/104 [00:11<00:00,  8.77it/s]\n"
     ]
    },
    {
     "data": {
      "text/plain": [
       "(0.342, 2e-05, 0.865, 0.0)"
      ]
     },
     "execution_count": 40,
     "metadata": {},
     "output_type": "execute_result"
    }
   ],
   "source": [
    "temp_1 = []\n",
    "for i in range(5):\n",
    "    metrics = answer_questions(subset, prompt, 0.01)\n",
    "    temp_1.append(metrics)\n",
    "(round(np.mean([i[0] for i in temp_1]),3), round(np.var([i[0] for i in temp_1]),5), round(np.mean([i[1] for i in temp_1]),3), round(np.var([i[1] for i in temp_1]),5))\n"
   ]
  },
  {
   "cell_type": "markdown",
   "metadata": {},
   "source": [
    "## Prompt 5"
   ]
  },
  {
   "cell_type": "code",
   "execution_count": 45,
   "metadata": {},
   "outputs": [],
   "source": [
    "prompt = \"\"\"你是一名执业药师，正在参加考试，考不好你会失业, 考核医学药学知识，请仔细阅读问题和选项后，选择最佳答案。直接回答一个英文字母, 不要其他任何输出。题目:  __question__  || 选项: __options__ || 答案: \"\"\""
   ]
  },
  {
   "cell_type": "code",
   "execution_count": 46,
   "metadata": {},
   "outputs": [
    {
     "name": "stderr",
     "output_type": "stream",
     "text": [
      "100%|██████████| 104/104 [00:12<00:00,  8.58it/s]\n",
      "100%|██████████| 104/104 [00:12<00:00,  8.61it/s]\n",
      "100%|██████████| 104/104 [00:12<00:00,  8.62it/s]\n",
      "100%|██████████| 104/104 [00:12<00:00,  8.62it/s]\n",
      "100%|██████████| 104/104 [00:12<00:00,  8.62it/s]\n",
      "100%|██████████| 104/104 [00:12<00:00,  8.61it/s]\n",
      "100%|██████████| 104/104 [00:12<00:00,  8.61it/s]\n",
      "100%|██████████| 104/104 [00:12<00:00,  8.54it/s]\n",
      "100%|██████████| 104/104 [00:12<00:00,  8.61it/s]\n",
      "100%|██████████| 104/104 [00:12<00:00,  8.61it/s]\n"
     ]
    },
    {
     "data": {
      "text/plain": [
       "(0.37, 2e-05, 0.865, 0.0)"
      ]
     },
     "execution_count": 46,
     "metadata": {},
     "output_type": "execute_result"
    }
   ],
   "source": [
    "temp_1 = []\n",
    "for i in range(10):\n",
    "    metrics = answer_questions(subset, prompt, 0.01)\n",
    "    temp_1.append(metrics)\n",
    "(round(np.mean([i[0] for i in temp_1]),3), round(np.var([i[0] for i in temp_1]),5), round(np.mean([i[1] for i in temp_1]),3), round(np.var([i[1] for i in temp_1]),5))\n"
   ]
  },
  {
   "cell_type": "code",
   "execution_count": 55,
   "metadata": {},
   "outputs": [],
   "source": [
    "def get_context(query):\n",
    "    tv = to_embeddings(t2v_model, [query])\n",
    "    dis, ind = index.search(tv, 10)\n",
    "    qa_id_list = list(ind[0])\n",
    "    context = kb_dict[qa_id_list[0]]['q']\n",
    "    # print(context)\n",
    "    context_embeding = to_embeddings(t2v_model, [context])\n",
    "    # return calc_similarity_scores(t2v_model, [query], [context])\n",
    "    if calc_similarity_scores(t2v_model, [query], [context]) > 0.983:\n",
    "        print(query)\n",
    "        print('---------->')\n",
    "        print(context)\n",
    "        return context\n",
    "    else:\n",
    "        return \"\""
   ]
  },
  {
   "cell_type": "code",
   "execution_count": null,
   "metadata": {},
   "outputs": [],
   "source": [
    "counter = 0\n",
    "subset = []\n",
    "contextset = []\n",
    "for i in range(len(questions)):\n",
    "    text = questions[i][0] + ''.join(questions[i][1])\n",
    "    context = get_context(text)\n",
    "    # print(text[0])\n",
    "    if len(context)>0:\n",
    "        counter = counter + 1\n",
    "        subset.append(questions[i])\n",
    "        contextset.append(context)\n"
   ]
  },
  {
   "cell_type": "code",
   "execution_count": 65,
   "metadata": {},
   "outputs": [],
   "source": [
    "import re\n",
    "\n",
    "def remove_patterns(text, patterns):\n",
    "    for pattern in patterns:\n",
    "        text = re.sub(pattern, '', text)\n",
    "    return text\n",
    "\n",
    "patterns = ['\\([一二三四五六七八九十]+\\)', '[0-9]+\\.', '\\([0-9]+\\)','[一二三四五六七八九十]+']\n",
    "\n",
    "# Loop through the contents and find the start line number of the patterns\n",
    "# start_line_numbers = [0]\n",
    "# for i, line in enumerate(contents):\n",
    "#     for pattern in patterns:\n",
    "#         if re.match(pattern, line):\n",
    "#             start_line_numbers.append(i)\n",
    "#             break\n"
   ]
  },
  {
   "cell_type": "code",
   "execution_count": 67,
   "metadata": {},
   "outputs": [],
   "source": [
    "contextset2 = [remove_patterns(i, patterns) for i in contextset]"
   ]
  },
  {
   "cell_type": "markdown",
   "metadata": {},
   "source": [
    "## RAG Promopt"
   ]
  },
  {
   "cell_type": "code",
   "execution_count": 90,
   "metadata": {},
   "outputs": [],
   "source": [
    "\n",
    "def answer_questions_with_context(question_set, context_set, prompt, temperature):\n",
    "    result = []\n",
    "    # subset = random.sample(questions, 10) \n",
    "    k = 0\n",
    "    for q, o, a in tqdm(question_set):\n",
    "        pro = prompt.replace('__context__', context_set[k])\n",
    "        k = k+1\n",
    "        pro = pro.replace('__question__', q.strip())\n",
    "        opt_str = \"\"\n",
    "        idx = ['A', 'B', 'C', 'D', 'E']\n",
    "        i = 0\n",
    "        for opt in o:\n",
    "            opt_str = opt_str + idx[i] + '. ' + opt.strip() + ' '\n",
    "            i = i +1\n",
    "        pro = pro.replace('__options__', opt_str)\n",
    "        question = pro\n",
    "        # print('-------')\n",
    "        # print(question)\n",
    "        sa = query_model(question,temperature)\n",
    "        # print(sa)\n",
    "        # print('----标准答案---', a)\n",
    "        result.append((q, o, a, sa))\n",
    "        # print(result)\n",
    "    \n",
    "    return accuracy(result), instruction_following(result),result"
   ]
  },
  {
   "cell_type": "markdown",
   "metadata": {},
   "source": [
    "\n",
    "prompt = \"\"\"你是一名优秀的执业药师，正在参加考试, 考核医学药学知识，请仔细阅读参考知识、问题和选项，选择最佳答案。直接回答一个英文字母。不要其他文字输出。 参考知识:  __context__  || 题目:  __question__  || 选项: __options__ || 答案: \"\"\""
   ]
  },
  {
   "cell_type": "code",
   "execution_count": 91,
   "metadata": {},
   "outputs": [],
   "source": [
    "prompt = \"\"\"你是一名优秀的执业药师，正在参加考试, 考核医学药学知识，请仔细阅读参考知识、问题和选项，选择最佳答案。直接回答一个英文字母。不要其他文字输出。 参考知识:  __context__  || 题目:  __question__  || 选项: __options__ || 答案: \"\"\""
   ]
  },
  {
   "cell_type": "code",
   "execution_count": 87,
   "metadata": {},
   "outputs": [],
   "source": [
    "# prompt = \"\"\"题目： __question__  || 选项：__options__ || 答案:\"\"\"\n",
    "# prompt = \"\"\"你是一名优秀的执业药师 请仔细阅读参考知识、问题和选项, 完成单选题,直接给出答案。 参考知识:  __context__  || 题目:  __question__  || 选项: __options__ || 答案: \"\"\""
   ]
  },
  {
   "cell_type": "code",
   "execution_count": 92,
   "metadata": {},
   "outputs": [
    {
     "name": "stderr",
     "output_type": "stream",
     "text": [
      "100%|██████████| 104/104 [00:22<00:00,  4.66it/s]\n",
      "100%|██████████| 104/104 [00:22<00:00,  4.54it/s]\n",
      "100%|██████████| 104/104 [00:22<00:00,  4.60it/s]\n",
      "100%|██████████| 104/104 [00:22<00:00,  4.66it/s]\n",
      "100%|██████████| 104/104 [00:22<00:00,  4.70it/s]\n"
     ]
    },
    {
     "data": {
      "text/plain": [
       "(0.429, 2e-05, 0.688, 2e-05)"
      ]
     },
     "execution_count": 92,
     "metadata": {},
     "output_type": "execute_result"
    }
   ],
   "source": [
    "temp_1 = []\n",
    "for i in range(5):\n",
    "    metrics = answer_questions_with_context(subset, contextset2, prompt, 0.01)\n",
    "    temp_1.append(metrics)\n",
    "(round(np.mean([i[0] for i in temp_1]),3), round(np.var([i[0] for i in temp_1]),5), round(np.mean([i[1] for i in temp_1]),3), round(np.var([i[1] for i in temp_1]),5))\n"
   ]
  },
  {
   "cell_type": "code",
   "execution_count": null,
   "metadata": {},
   "outputs": [],
   "source": []
  }
 ],
 "metadata": {
  "kernelspec": {
   "display_name": "iit",
   "language": "python",
   "name": "python3"
  },
  "language_info": {
   "codemirror_mode": {
    "name": "ipython",
    "version": 3
   },
   "file_extension": ".py",
   "mimetype": "text/x-python",
   "name": "python",
   "nbconvert_exporter": "python",
   "pygments_lexer": "ipython3",
   "version": "3.8.16"
  },
  "orig_nbformat": 4
 },
 "nbformat": 4,
 "nbformat_minor": 2
}
